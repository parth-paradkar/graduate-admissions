{
  "nbformat": 4,
  "nbformat_minor": 0,
  "metadata": {
    "colab": {
      "name": "GREvsCGPA_2.ipynb",
      "version": "0.3.2",
      "provenance": [],
      "include_colab_link": true
    },
    "kernelspec": {
      "name": "python3",
      "display_name": "Python 3"
    }
  },
  "cells": [
    {
      "cell_type": "markdown",
      "metadata": {
        "id": "view-in-github",
        "colab_type": "text"
      },
      "source": [
        "<a href=\"https://colab.research.google.com/github/thescriptninja/graduate-admissions/blob/master/GREvsCGPA_2.ipynb\" target=\"_parent\"><img src=\"https://colab.research.google.com/assets/colab-badge.svg\" alt=\"Open In Colab\"/></a>"
      ]
    },
    {
      "metadata": {
        "id": "_mdIXE8B6jwV",
        "colab_type": "code",
        "colab": {}
      },
      "cell_type": "code",
      "source": [
        "import numpy as np\n",
        "import pandas as pd\n",
        "import matplotlib.pyplot as plt"
      ],
      "execution_count": 0,
      "outputs": []
    },
    {
      "metadata": {
        "id": "iYjIs4EY6w_e",
        "colab_type": "code",
        "colab": {}
      },
      "cell_type": "code",
      "source": [
        "url = 'https://raw.githubusercontent.com/thescriptninja/graduate-admissions/master/Admission_Predict.csv'\n",
        "\n",
        "dataset = pd.read_csv(url)"
      ],
      "execution_count": 0,
      "outputs": []
    },
    {
      "metadata": {
        "id": "W6e91hrq8p0p",
        "colab_type": "code",
        "colab": {}
      },
      "cell_type": "code",
      "source": [
        "cgpa = dataset[\"CGPA\"]\n",
        "gre = dataset[\"GRE Score\"]\n",
        "def predict(cgpa, weight, bias):\n",
        "    return cgpa*weight + bias\n",
        "  \n",
        "def calc_mse(cgpa, gre, weight, bias):\n",
        "    num_students = len(cgpa)\n",
        "    total_err = 0.0\n",
        "    for i in range(num_students):\n",
        "        total_err += (gre[i] - (weight*cgpa[i] + bias))*(gre[i] - (weight*cgpa[i] + bias))\n",
        "    return total_err/num_students\n",
        "  \n",
        "def update_weights(cgpa, gre, weight, bias, learning_rate):\n",
        "    w_der = 0.0\n",
        "    b_der = 0.0\n",
        "    num_students = len(cgpa)\n",
        "    for i in range(num_students):\n",
        "        w_der += -2*cgpa[i]*(gre[i]-(weight*cgpa[i] + bias))\n",
        "        b_der += -2*(gre[i]-(weight*cgpa[i] + bias))\n",
        "        \n",
        "    weight = weight - (w_der/num_students)*learning_rate\n",
        "    bias = bias - (b_der/num_students)*learning_rate\n",
        "    return weight, bias\n",
        "\n",
        "def train(cgpa, gre, weight, bias, learning_rate, reps):\n",
        "    for i in range(reps):\n",
        "        err = calc_mse(cgpa, gre, weight, bias)\n",
        "        weight, bias = update_weights(cgpa, gre, weight, bias, learning_rate)\n",
        "        print(\"iter: {} error: {:.2f} weight: {:.4f} bias: {:.4f}\\n\".format(i, err, weight, bias))\n",
        "        \n",
        "    return weight, bias\n",
        "  \n",
        "weight, bias = train(cgpa, gre, 33.42, 28.63, 0.01, 8000)"
      ],
      "execution_count": 0,
      "outputs": []
    },
    {
      "metadata": {
        "id": "Xc766DxwBzHk",
        "colab_type": "code",
        "colab": {
          "base_uri": "https://localhost:8080/",
          "height": 283
        },
        "outputId": "034cd152-281e-403d-deb3-b6ab23ac2db5"
      },
      "cell_type": "code",
      "source": [
        "trained_gre = [element*weight + bias for element in cgpa]\n",
        "plt.scatter(cgpa, gre, color = 'blue')\n",
        "plt.plot(cgpa, trained_gre, color = 'red')\n",
        "plt.xlabel('CGPA')\n",
        "plt.ylabel('GRE Score')\n",
        "plt.show()"
      ],
      "execution_count": 25,
      "outputs": [
        {
          "output_type": "display_data",
          "data": {
            "image/png": "[encoded data removed]",
            "text/plain": [
              "<Figure size 432x288 with 1 Axes>"
            ]
          },
          "metadata": {
            "tags": []
          }
        }
      ]
    }
  ]
}